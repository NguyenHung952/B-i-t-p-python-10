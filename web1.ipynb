{
 "cells": [
  {
   "cell_type": "code",
   "execution_count": 63,
   "id": "fdc662e8-ce12-4663-abd5-36642bc25e9c",
   "metadata": {},
   "outputs": [
    {
     "name": "stdout",
     "output_type": "stream",
     "text": [
      "Tiêu đề là: Cảnh báo về các tình trạng lừa đảo và lưu ý cần biết\n",
      "Mô tả: Hãy nắm rõ những lưu ý để bảo vệ tài khoản của chính bạn.\n",
      "Ngày đăng:  12:00 22/10/2022\n",
      "\n",
      "Tiêu đề là: Tham gia \"Hoa Linh Tam Giới\" - Khám phá Tam Giới, săn skin Giới Hạn từ 21/10 đến 27/10\n",
      "Mô tả: Khám phá ngay để nhận trang phục Giới Hạn các bạn ơi!\n",
      "Ngày đăng:  17:30 21/10/2022\n",
      "\n",
      "Tiêu đề là: Tham gia \"Đêm Hội Phù Thủy\" - Chọn Phù Thủy và săn quà tùy ý từ 10:00 21/10 đến 23:59 27/10\n",
      "Mô tả: Các Phù Thủy tới rồi đây.\n",
      "Ngày đăng:  10:00 21/10/2022\n",
      "\n",
      "Tiêu đề là: Quy đổi RP - Nhận thêm RP và Vật Phẩm CKTG giá trị từ 00:30 21/10 đến 23:59 27/10\n",
      "Mô tả: Nhanh tay quy đổi để nhận thêm các vật phẩm giá trị.\n",
      "Ngày đăng:  00:30 21/10/2022\n",
      "\n",
      "Tiêu đề là: Chi tiết phiên bản cập nhật 12.20: Phù Thủy\n",
      "Mô tả: Chào mừng đến với bản cập nhật Lễ Hội Ma Ám.\n",
      "Ngày đăng:  12:30 19/10/2022\n",
      "\n",
      "Tiêu đề là: Chi tiết phiên bản cập nhật Đấu Trường Chân Lý 12.20\n",
      "Mô tả: Cân bằng lõi, và các Tộc/Hệ, sửa lỗi và nhiều nữa.\n",
      "Ngày đăng:  12:30 19/10/2022\n",
      "\n"
     ]
    }
   ],
   "source": [
    "from bs4 import BeautifulSoup\n",
    "import requests\n",
    "import pandas as pd\n",
    "\n",
    "url = 'https://lienminh.garena.vn/'\n",
    "web = requests.get(url).text\n",
    "soup = BeautifulSoup(web, 'html.parser')\n",
    "#print(soup)\n",
    "data = soup.find('div', class_=\"center\")\n",
    "#print(data)\n",
    "data1=soup.find_all('div', class_=\"newItem\")\n",
    "#print(data1)\n",
    "\n",
    "for i in data1:\n",
    "    tieu_de = i.a.find(\"h2\", class_=\"title\").text\n",
    "    mo_ta = i.a.find('p', class_=\"content\").text\n",
    "    data2=i.a.find('p', class_=\"time\").text\n",
    "    print(\"Tiêu đề là:\", tieu_de)\n",
    "    print(\"Mô tả:\", mo_ta)\n",
    "    print(\"Ngày đăng: \" , data2)\n",
    "    print('')"
   ]
  },
  {
   "cell_type": "code",
   "execution_count": null,
   "id": "c34ef0d9-824b-41c6-824f-3436c6f85411",
   "metadata": {},
   "outputs": [],
   "source": []
  }
 ],
 "metadata": {
  "kernelspec": {
   "display_name": "Python 3 (ipykernel)",
   "language": "python",
   "name": "python3"
  },
  "language_info": {
   "codemirror_mode": {
    "name": "ipython",
    "version": 3
   },
   "file_extension": ".py",
   "mimetype": "text/x-python",
   "name": "python",
   "nbconvert_exporter": "python",
   "pygments_lexer": "ipython3",
   "version": "3.9.12"
  }
 },
 "nbformat": 4,
 "nbformat_minor": 5
}
