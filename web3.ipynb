{
 "cells": [
  {
   "cell_type": "code",
   "execution_count": 21,
   "id": "f8da0407-3d75-4348-aa4e-844c56323f8d",
   "metadata": {},
   "outputs": [],
   "source": [
    "#importing the libraries needed \n",
    "import pandas as pd\n",
    "import numpy as np\n",
    "import requests\n",
    "from bs4 import BeautifulSoup\n",
    "from time import sleep\n",
    "from random import randint"
   ]
  },
  {
   "cell_type": "code",
   "execution_count": 22,
   "id": "4f98bd9b-7e8b-452e-8a1b-3b2e43d12498",
   "metadata": {
    "tags": []
   },
   "outputs": [],
   "source": [
    "movie_name = []\n",
    "year = []\n",
    "time=[]\n",
    "rating=[]\n",
    "votes = []\n",
    "gross = []\n",
    "description = []"
   ]
  },
  {
   "cell_type": "code",
   "execution_count": 23,
   "id": "75b693dc-3166-4056-922a-a6ffbe5a63b2",
   "metadata": {},
   "outputs": [],
   "source": [
    "pages = np.arange(1,1000,100)"
   ]
  },
  {
   "cell_type": "code",
   "execution_count": 24,
   "id": "4241851c-b500-4e4d-b69d-dfc6d483acae",
   "metadata": {},
   "outputs": [],
   "source": [
    "for page in pages:\n",
    "    page = requests.get(\"https://www.imdb.com/search/title/?groups=top_1000&sort=user_rating,desc&count=100&start=\"+str(page)+\"&ref_=adv_nxt\")\n",
    "    soup = BeautifulSoup(page.text, 'html.parser')\n",
    "    movie_data = soup.findAll('div', attrs = {'class': 'lister-item mode-advanced'})\n",
    "    for store in movie_data:\n",
    "        name = store.h3.a.text\n",
    "        movie_name.append(name)\n",
    "        \n",
    "        year_of_release = store.h3.find('span', class_ = \"lister-item-year text-muted unbold\").text\n",
    "        year.append(year_of_release)\n",
    "        \n",
    "        runtime = store.p.find(\"span\", class_ = 'runtime').text\n",
    "        time.append(runtime)\n",
    "        \n",
    "        rate = store.find('div', class_ = \"inline-block ratings-imdb-rating\").text.replace('\\n', '')\n",
    "        rating.append(rate)       \n",
    "        \n",
    "        value = store.find_all('span', attrs = {'name': \"nv\"})\n",
    "        \n",
    "        vote = value[0].text\n",
    "        votes.append(vote)\n",
    "        \n",
    "        grosses = value[1].text if len(value)>1 else '%^%^%^'\n",
    "        gross.append(grosses)"
   ]
  },
  {
   "cell_type": "code",
   "execution_count": 25,
   "id": "378d559d-35c9-46f5-9434-daa85d74b4f7",
   "metadata": {},
   "outputs": [],
   "source": [
    "movie_list = pd.DataFrame({ \"Tên phim\": movie_name, \"Năm sản xuất\" : year, \"Thời gian xem\": time,\"Đánh giá\": rating})"
   ]
  },
  {
   "cell_type": "code",
   "execution_count": 26,
   "id": "1b278e3f-6308-45a4-b90a-cd309cf5b1ea",
   "metadata": {},
   "outputs": [
    {
     "data": {
      "text/html": [
       "<div>\n",
       "<style scoped>\n",
       "    .dataframe tbody tr th:only-of-type {\n",
       "        vertical-align: middle;\n",
       "    }\n",
       "\n",
       "    .dataframe tbody tr th {\n",
       "        vertical-align: top;\n",
       "    }\n",
       "\n",
       "    .dataframe thead th {\n",
       "        text-align: right;\n",
       "    }\n",
       "</style>\n",
       "<table border=\"1\" class=\"dataframe\">\n",
       "  <thead>\n",
       "    <tr style=\"text-align: right;\">\n",
       "      <th></th>\n",
       "      <th>Tên phim</th>\n",
       "      <th>Năm sản xuất</th>\n",
       "      <th>Thời gian xem</th>\n",
       "      <th>Đánh giá</th>\n",
       "    </tr>\n",
       "  </thead>\n",
       "  <tbody>\n",
       "    <tr>\n",
       "      <th>0</th>\n",
       "      <td>Nhà tù Shawshank</td>\n",
       "      <td>(1994)</td>\n",
       "      <td>142 min</td>\n",
       "      <td>9.3</td>\n",
       "    </tr>\n",
       "    <tr>\n",
       "      <th>1</th>\n",
       "      <td>Bố Già</td>\n",
       "      <td>(1972)</td>\n",
       "      <td>175 min</td>\n",
       "      <td>9.2</td>\n",
       "    </tr>\n",
       "    <tr>\n",
       "      <th>2</th>\n",
       "      <td>Kantara</td>\n",
       "      <td>(2022)</td>\n",
       "      <td>148 min</td>\n",
       "      <td>9.1</td>\n",
       "    </tr>\n",
       "    <tr>\n",
       "      <th>3</th>\n",
       "      <td>Kỵ Sĩ Bóng Đêm</td>\n",
       "      <td>(2008)</td>\n",
       "      <td>152 min</td>\n",
       "      <td>9.0</td>\n",
       "    </tr>\n",
       "    <tr>\n",
       "      <th>4</th>\n",
       "      <td>Chúa Tể Của Những Chiếc Nhẫn: Sự Quay Trở Lại ...</td>\n",
       "      <td>(2003)</td>\n",
       "      <td>201 min</td>\n",
       "      <td>9.0</td>\n",
       "    </tr>\n",
       "  </tbody>\n",
       "</table>\n",
       "</div>"
      ],
      "text/plain": [
       "                                            Tên phim Năm sản xuất  \\\n",
       "0                                   Nhà tù Shawshank       (1994)   \n",
       "1                                             Bố Già       (1972)   \n",
       "2                                            Kantara       (2022)   \n",
       "3                                     Kỵ Sĩ Bóng Đêm       (2008)   \n",
       "4  Chúa Tể Của Những Chiếc Nhẫn: Sự Quay Trở Lại ...       (2003)   \n",
       "\n",
       "  Thời gian xem Đánh giá  \n",
       "0       142 min      9.3  \n",
       "1       175 min      9.2  \n",
       "2       148 min      9.1  \n",
       "3       152 min      9.0  \n",
       "4       201 min      9.0  "
      ]
     },
     "execution_count": 26,
     "metadata": {},
     "output_type": "execute_result"
    }
   ],
   "source": [
    "movie_list.head(5)"
   ]
  },
  {
   "cell_type": "code",
   "execution_count": 19,
   "id": "79f9cc8c-66a3-458e-820d-4a81c5857af2",
   "metadata": {},
   "outputs": [],
   "source": [
    "gfg_csv_data = movie_list.to_csv('GfG.csv', index = True)"
   ]
  },
  {
   "cell_type": "code",
   "execution_count": null,
   "id": "bc6d39a2-8913-4f5f-bda6-f191c663647c",
   "metadata": {},
   "outputs": [],
   "source": []
  }
 ],
 "metadata": {
  "kernelspec": {
   "display_name": "Python 3 (ipykernel)",
   "language": "python",
   "name": "python3"
  },
  "language_info": {
   "codemirror_mode": {
    "name": "ipython",
    "version": 3
   },
   "file_extension": ".py",
   "mimetype": "text/x-python",
   "name": "python",
   "nbconvert_exporter": "python",
   "pygments_lexer": "ipython3",
   "version": "3.9.12"
  }
 },
 "nbformat": 4,
 "nbformat_minor": 5
}
